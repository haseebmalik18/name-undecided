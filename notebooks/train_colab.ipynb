{
 "cells": [
  {
   "cell_type": "markdown",
   "metadata": {},
   "source": [
    "# RL-Powered Cache Management - Colab Training\n",
    "\n",
    "Train a DQN agent to manage cache admission and eviction decisions."
   ]
  },
  {
   "cell_type": "code",
   "execution_count": null,
   "metadata": {},
   "outputs": [],
   "source": [
    "!git clone https://github.com/haseebmalik18/name-undecided.git\n",
    "%cd name-undecided"
   ]
  },
  {
   "cell_type": "code",
   "execution_count": null,
   "metadata": {},
   "outputs": [],
   "source": [
    "!pip install -q -r requirements.txt"
   ]
  },
  {
   "cell_type": "code",
   "execution_count": null,
   "metadata": {},
   "outputs": [],
   "source": [
    "import sys\n",
    "sys.path.append('src')\n",
    "\n",
    "import numpy as np\n",
    "import matplotlib.pyplot as plt\n",
    "from tqdm.notebook import tqdm\n",
    "import torch\n",
    "\n",
    "from agents.environment import CacheEnv\n",
    "from agents.dqn_agent import DQNAgent\n",
    "from workloads.generators import ZipfWorkload\n",
    "from metrics.tracker import MetricsTracker\n",
    "from visualization.plotter import plot_training_metrics, plot_comparison\n",
    "from cache.policies import LRUCache\n",
    "\n",
    "print(f\"Using device: {torch.device('cuda' if torch.cuda.is_available() else 'cpu')}\")"
   ]
  },
  {
   "cell_type": "markdown",
   "metadata": {},
   "source": [
    "## Configuration"
   ]
  },
  {
   "cell_type": "code",
   "execution_count": null,
   "metadata": {},
   "outputs": [],
   "source": [
    "CACHE_CAPACITY = 100\n",
    "NUM_ITEMS = 1000\n",
    "EPISODES = 1000\n",
    "EPISODE_LENGTH = 1000\n",
    "ZIPF_ALPHA = 1.5\n",
    "LEARNING_RATE = 0.001"
   ]
  },
  {
   "cell_type": "markdown",
   "metadata": {},
   "source": [
    "## Initialize Environment and Agent"
   ]
  },
  {
   "cell_type": "code",
   "execution_count": null,
   "metadata": {},
   "outputs": [],
   "source": [
    "workload = ZipfWorkload(num_items=NUM_ITEMS, alpha=ZIPF_ALPHA, seed=42)\n",
    "\n",
    "env = CacheEnv(\n",
    "    cache_capacity=CACHE_CAPACITY,\n",
    "    num_items=NUM_ITEMS,\n",
    "    workload_generator=workload,\n",
    "    episode_length=EPISODE_LENGTH\n",
    ")\n",
    "\n",
    "state_size = env.observation_space.shape[0]\n",
    "action_size = env.action_space.n\n",
    "\n",
    "agent = DQNAgent(\n",
    "    state_size=state_size,\n",
    "    action_size=action_size,\n",
    "    learning_rate=LEARNING_RATE\n",
    ")\n",
    "\n",
    "metrics = MetricsTracker()\n",
    "\n",
    "print(f\"State Size: {state_size}, Action Size: {action_size}\")"
   ]
  },
  {
   "cell_type": "markdown",
   "metadata": {},
   "source": [
    "## Training Loop"
   ]
  },
  {
   "cell_type": "code",
   "execution_count": null,
   "metadata": {},
   "outputs": [],
   "source": [
    "for episode in tqdm(range(EPISODES), desc=\"Training\"):\n",
    "    state, _ = env.reset()\n",
    "    total_reward = 0\n",
    "    \n",
    "    for step in range(EPISODE_LENGTH):\n",
    "        action = agent.select_action(state, training=True)\n",
    "        next_state, reward, done, truncated, info = env.step(action)\n",
    "        \n",
    "        agent.store_transition(state, action, reward, next_state, done)\n",
    "        loss = agent.train()\n",
    "        \n",
    "        if loss is not None:\n",
    "            metrics.add_loss(loss)\n",
    "        \n",
    "        total_reward += reward\n",
    "        state = next_state\n",
    "        \n",
    "        if done or truncated:\n",
    "            break\n",
    "    \n",
    "    cache_metrics = env.cache.get_metrics()\n",
    "    metrics.add_episode(\n",
    "        total_reward,\n",
    "        cache_metrics['hit_rate'],\n",
    "        cache_metrics['avg_latency'],\n",
    "        cache_metrics['bandwidth_used']\n",
    "    )\n",
    "    \n",
    "    if (episode + 1) % 100 == 0:\n",
    "        stats = metrics.get_stats(window=100)\n",
    "        print(f\"\\nEpisode {episode + 1}/{EPISODES}\")\n",
    "        print(f\"  Mean Reward: {stats['mean_reward']:.2f} ± {stats['std_reward']:.2f}\")\n",
    "        print(f\"  Mean Hit Rate: {stats['mean_hit_rate']:.3f} ± {stats['std_hit_rate']:.3f}\")\n",
    "        print(f\"  Epsilon: {agent.epsilon:.3f}\")"
   ]
  },
  {
   "cell_type": "markdown",
   "metadata": {},
   "source": [
    "## Evaluate LRU Baseline"
   ]
  },
  {
   "cell_type": "code",
   "execution_count": null,
   "metadata": {},
   "outputs": [],
   "source": [
    "lru = LRUCache(capacity=CACHE_CAPACITY)\n",
    "lru_hit_rates = []\n",
    "\n",
    "workload_lru = ZipfWorkload(num_items=NUM_ITEMS, alpha=ZIPF_ALPHA, seed=42)\n",
    "\n",
    "for episode in tqdm(range(100), desc=\"LRU Eval\"):\n",
    "    lru.reset()\n",
    "    requests = workload_lru.generate(EPISODE_LENGTH)\n",
    "    \n",
    "    for req in requests:\n",
    "        lru.access(req)\n",
    "    \n",
    "    lru_hit_rates.append(lru.get_hit_rate())\n",
    "\n",
    "lru_mean = np.mean(lru_hit_rates)\n",
    "lru_std = np.std(lru_hit_rates)\n",
    "print(f\"LRU Hit Rate: {lru_mean:.3f} ± {lru_std:.3f}\")"
   ]
  },
  {
   "cell_type": "markdown",
   "metadata": {},
   "source": [
    "## Visualize Results"
   ]
  },
  {
   "cell_type": "code",
   "execution_count": null,
   "metadata": {},
   "outputs": [],
   "source": [
    "plot_training_metrics(metrics)"
   ]
  },
  {
   "cell_type": "code",
   "execution_count": null,
   "metadata": {},
   "outputs": [],
   "source": [
    "results = {\n",
    "    'DQN': {\n",
    "        'hit_rates': metrics.episode_hit_rates,\n",
    "        'rewards': metrics.episode_rewards\n",
    "    },\n",
    "    'LRU': {\n",
    "        'hit_rates': lru_hit_rates + [lru_mean] * (len(metrics.episode_hit_rates) - len(lru_hit_rates)),\n",
    "        'rewards': [0] * len(metrics.episode_rewards)\n",
    "    }\n",
    "}\n",
    "\n",
    "plot_comparison(results)"
   ]
  },
  {
   "cell_type": "markdown",
   "metadata": {},
   "source": [
    "## Save Model"
   ]
  },
  {
   "cell_type": "code",
   "execution_count": null,
   "metadata": {},
   "outputs": [],
   "source": [
    "agent.save('dqn_agent_colab.pth')\n",
    "metrics.save('metrics_colab.json')\n",
    "print(\"Model and metrics saved!\")"
   ]
  },
  {
   "cell_type": "markdown",
   "metadata": {},
   "source": [
    "## Download Results"
   ]
  },
  {
   "cell_type": "code",
   "execution_count": null,
   "metadata": {},
   "outputs": [],
   "source": [
    "from google.colab import files\n",
    "\n",
    "files.download('dqn_agent_colab.pth')\n",
    "files.download('metrics_colab.json')"
   ]
  }
 ],
 "metadata": {
  "kernelspec": {
   "display_name": "Python 3",
   "language": "python",
   "name": "python3"
  },
  "language_info": {
   "name": "python",
   "version": "3.10.0"
  }
 },
 "nbformat": 4,
 "nbformat_minor": 2
}
